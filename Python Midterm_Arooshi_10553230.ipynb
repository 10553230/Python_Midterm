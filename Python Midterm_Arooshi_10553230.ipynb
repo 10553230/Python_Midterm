{
 "cells": [
  {
   "cell_type": "code",
   "execution_count": 16,
   "id": "1529b0cc-1670-4809-b673-b2ea23b751a7",
   "metadata": {},
   "outputs": [],
   "source": [
    "import zipfile"
   ]
  },
  {
   "cell_type": "code",
   "execution_count": 91,
   "id": "a7430ec7-7f50-456a-b847-459d9deca4e2",
   "metadata": {},
   "outputs": [],
   "source": [
    "import seaborn as sns\n",
    "import pandas as pd\n",
    "import zipfile\n",
    "import numpy as np\n",
    "import csv\n",
    "import datetime"
   ]
  },
  {
   "cell_type": "code",
   "execution_count": 92,
   "id": "1488938b-8b68-4cbb-aaab-2fd039b80746",
   "metadata": {},
   "outputs": [
    {
     "name": "stdout",
     "output_type": "stream",
     "text": [
      "Files in the zip are:  ['data/CI.csv', 'data/ACN.csv', 'data/AES.csv', 'data/CNP.csv', 'data/DTE.csv']\n"
     ]
    }
   ],
   "source": [
    "with zipfile.ZipFile(\"C:/Users/aroos/Desktop/10553230.zip\") as z:\n",
    "    print(\"Files in the zip are: \", z.namelist())"
   ]
  },
  {
   "cell_type": "code",
   "execution_count": null,
   "id": "6930df15-5523-4752-8188-ba8c969bbc49",
   "metadata": {},
   "outputs": [],
   "source": []
  },
  {
   "cell_type": "code",
   "execution_count": 96,
   "id": "078dd252-048f-4fd0-bd6d-4069d504f031",
   "metadata": {},
   "outputs": [],
   "source": [
    "#3"
   ]
  },
  {
   "cell_type": "code",
   "execution_count": 106,
   "id": "930769cd-a970-4c03-a535-baa988abc3b7",
   "metadata": {},
   "outputs": [],
   "source": [
    "data3 = 'C:/Users/aroos/Desktop/data/ACN.csv'\n",
    "df3 =pd.read_csv(data3) \n",
    "df3['Log Returns']= np.log(df3['Close'] / df3['Close'].shift(1))"
   ]
  },
  {
   "cell_type": "code",
   "execution_count": 107,
   "id": "3f720190-b05c-449d-a3ab-f54d0faef45c",
   "metadata": {},
   "outputs": [
    {
     "data": {
      "text/html": [
       "<div>\n",
       "<style scoped>\n",
       "    .dataframe tbody tr th:only-of-type {\n",
       "        vertical-align: middle;\n",
       "    }\n",
       "\n",
       "    .dataframe tbody tr th {\n",
       "        vertical-align: top;\n",
       "    }\n",
       "\n",
       "    .dataframe thead th {\n",
       "        text-align: right;\n",
       "    }\n",
       "</style>\n",
       "<table border=\"1\" class=\"dataframe\">\n",
       "  <thead>\n",
       "    <tr style=\"text-align: right;\">\n",
       "      <th></th>\n",
       "      <th>Date</th>\n",
       "      <th>Open</th>\n",
       "      <th>High</th>\n",
       "      <th>Low</th>\n",
       "      <th>Close</th>\n",
       "      <th>Volume</th>\n",
       "      <th>Dividends</th>\n",
       "      <th>Stock Splits</th>\n",
       "      <th>Log Returns</th>\n",
       "    </tr>\n",
       "  </thead>\n",
       "  <tbody>\n",
       "    <tr>\n",
       "      <th>0</th>\n",
       "      <td>2017-01-03</td>\n",
       "      <td>103.707</td>\n",
       "      <td>104.086</td>\n",
       "      <td>102.328</td>\n",
       "      <td>102.894</td>\n",
       "      <td>2351600</td>\n",
       "      <td>0.0</td>\n",
       "      <td>0.0</td>\n",
       "      <td>NaN</td>\n",
       "    </tr>\n",
       "    <tr>\n",
       "      <th>1</th>\n",
       "      <td>2017-01-04</td>\n",
       "      <td>103.291</td>\n",
       "      <td>104.078</td>\n",
       "      <td>102.867</td>\n",
       "      <td>103.141</td>\n",
       "      <td>2639800</td>\n",
       "      <td>0.0</td>\n",
       "      <td>0.0</td>\n",
       "      <td>0.002398</td>\n",
       "    </tr>\n",
       "    <tr>\n",
       "      <th>2</th>\n",
       "      <td>2017-01-05</td>\n",
       "      <td>103.353</td>\n",
       "      <td>103.495</td>\n",
       "      <td>101.560</td>\n",
       "      <td>101.595</td>\n",
       "      <td>3685400</td>\n",
       "      <td>0.0</td>\n",
       "      <td>0.0</td>\n",
       "      <td>-0.015103</td>\n",
       "    </tr>\n",
       "    <tr>\n",
       "      <th>3</th>\n",
       "      <td>2017-01-06</td>\n",
       "      <td>101.595</td>\n",
       "      <td>103.141</td>\n",
       "      <td>101.021</td>\n",
       "      <td>102.752</td>\n",
       "      <td>4125300</td>\n",
       "      <td>0.0</td>\n",
       "      <td>0.0</td>\n",
       "      <td>0.011324</td>\n",
       "    </tr>\n",
       "    <tr>\n",
       "      <th>4</th>\n",
       "      <td>2017-01-09</td>\n",
       "      <td>102.611</td>\n",
       "      <td>102.797</td>\n",
       "      <td>101.533</td>\n",
       "      <td>101.604</td>\n",
       "      <td>2550800</td>\n",
       "      <td>0.0</td>\n",
       "      <td>0.0</td>\n",
       "      <td>-0.011235</td>\n",
       "    </tr>\n",
       "  </tbody>\n",
       "</table>\n",
       "</div>"
      ],
      "text/plain": [
       "         Date     Open     High      Low    Close   Volume  Dividends  \\\n",
       "0  2017-01-03  103.707  104.086  102.328  102.894  2351600        0.0   \n",
       "1  2017-01-04  103.291  104.078  102.867  103.141  2639800        0.0   \n",
       "2  2017-01-05  103.353  103.495  101.560  101.595  3685400        0.0   \n",
       "3  2017-01-06  101.595  103.141  101.021  102.752  4125300        0.0   \n",
       "4  2017-01-09  102.611  102.797  101.533  101.604  2550800        0.0   \n",
       "\n",
       "   Stock Splits  Log Returns  \n",
       "0           0.0          NaN  \n",
       "1           0.0     0.002398  \n",
       "2           0.0    -0.015103  \n",
       "3           0.0     0.011324  \n",
       "4           0.0    -0.011235  "
      ]
     },
     "execution_count": 107,
     "metadata": {},
     "output_type": "execute_result"
    }
   ],
   "source": [
    "df3.head()"
   ]
  },
  {
   "cell_type": "code",
   "execution_count": 112,
   "id": "6f426f2f-7651-4532-b9f9-2bc69e69a04e",
   "metadata": {},
   "outputs": [
    {
     "name": "stdout",
     "output_type": "stream",
     "text": [
      "201.99049271523177\n"
     ]
    }
   ],
   "source": [
    "mean = df3['Close'].mean()\n",
    "print(mean)"
   ]
  },
  {
   "cell_type": "code",
   "execution_count": 113,
   "id": "a58d3187-8215-40fd-b636-db7e4192602e",
   "metadata": {},
   "outputs": [
    {
     "data": {
      "text/plain": [
       "72.64382141133197"
      ]
     },
     "execution_count": 113,
     "metadata": {},
     "output_type": "execute_result"
    }
   ],
   "source": [
    "df3['Close'].std()"
   ]
  },
  {
   "cell_type": "code",
   "execution_count": 114,
   "id": "58e5b417-e3ea-439f-ad31-bad40e93934c",
   "metadata": {},
   "outputs": [
    {
     "data": {
      "text/plain": [
       "100.022"
      ]
     },
     "execution_count": 114,
     "metadata": {},
     "output_type": "execute_result"
    }
   ],
   "source": [
    "df3['Close'].min()"
   ]
  },
  {
   "cell_type": "code",
   "execution_count": 115,
   "id": "ab527d9f-3832-4c25-b362-92110f894ef1",
   "metadata": {},
   "outputs": [
    {
     "data": {
      "text/plain": [
       "397.037"
      ]
     },
     "execution_count": 115,
     "metadata": {},
     "output_type": "execute_result"
    }
   ],
   "source": [
    "df3['Close'].max()"
   ]
  },
  {
   "cell_type": "markdown",
   "id": "4bdf5994-d7da-47c9-9acc-1f87385879ad",
   "metadata": {},
   "source": [
    "#2nd PART"
   ]
  },
  {
   "cell_type": "code",
   "execution_count": 57,
   "id": "542af259-3626-4785-93e0-34d4cee32f3e",
   "metadata": {},
   "outputs": [
    {
     "name": "stdout",
     "output_type": "stream",
     "text": [
      "  Symbol     Security  GICS_Sector                       hq    included  \\\n",
      "0    MMM           3M  Industrials    Saint Paul, Minnesota  09.08.1976   \n",
      "1    AOS  A. O. Smith  Industrials     Milwaukee, Wisconsin  26.07.2017   \n",
      "2    ABT       Abbott  Health Care  North Chicago, Illinois  31.03.1964   \n",
      "3   ABBV       AbbVie  Health Care  North Chicago, Illinois  31.12.2012   \n",
      "4   ABMD      Abiomed  Health Care   Danvers, Massachusetts  31.05.2018   \n",
      "\n",
      "       Founded  \n",
      "0         1902  \n",
      "1         1916  \n",
      "2         1888  \n",
      "3  2013 (1888)  \n",
      "4         1981  \n"
     ]
    }
   ],
   "source": [
    "import pandas as pd\n",
    "companies = pd.read_csv('C:/Users/aroos/Desktop/companies_no_subindustry.csv')\n",
    "print(companies.head()) "
   ]
  },
  {
   "cell_type": "code",
   "execution_count": 58,
   "id": "d23a65c0-bd26-462f-99a8-d9a99ab5ff3e",
   "metadata": {},
   "outputs": [
    {
     "data": {
      "text/plain": [
       "1"
      ]
     },
     "execution_count": 58,
     "metadata": {},
     "output_type": "execute_result"
    }
   ],
   "source": [
    "1"
   ]
  },
  {
   "cell_type": "code",
   "execution_count": 59,
   "id": "dd0f501d-c6d0-407e-8102-38f7c4391f86",
   "metadata": {},
   "outputs": [
    {
     "data": {
      "text/plain": [
       "0      True\n",
       "1      True\n",
       "2      True\n",
       "3      True\n",
       "4      True\n",
       "       ... \n",
       "498    True\n",
       "499    True\n",
       "500    True\n",
       "501    True\n",
       "502    True\n",
       "Name: included, Length: 503, dtype: bool"
      ]
     },
     "execution_count": 59,
     "metadata": {},
     "output_type": "execute_result"
    }
   ],
   "source": [
    "df.included.isnull()"
   ]
  },
  {
   "cell_type": "code",
   "execution_count": 60,
   "id": "91425979-b43d-4917-9e1e-4b0433bfb266",
   "metadata": {},
   "outputs": [
    {
     "data": {
      "text/plain": [
       "2"
      ]
     },
     "execution_count": 60,
     "metadata": {},
     "output_type": "execute_result"
    }
   ],
   "source": [
    "2"
   ]
  },
  {
   "cell_type": "code",
   "execution_count": 61,
   "id": "f630403f-72d4-42c5-a460-16cbbe1a2f68",
   "metadata": {},
   "outputs": [
    {
     "data": {
      "text/plain": [
       "186    2009.0\n",
       "476    2005.0\n",
       "Name: included, dtype: float64"
      ]
     },
     "execution_count": 61,
     "metadata": {},
     "output_type": "execute_result"
    }
   ],
   "source": [
    "df.included.dropna()"
   ]
  },
  {
   "cell_type": "code",
   "execution_count": 69,
   "id": "1cbccb4a-ae89-4e0d-b3a3-3bd88e39cc2a",
   "metadata": {},
   "outputs": [
    {
     "ename": "NameError",
     "evalue": "name 'pandas' is not defined",
     "output_type": "error",
     "traceback": [
      "\u001b[1;31m---------------------------------------------------------------------------\u001b[0m",
      "\u001b[1;31mNameError\u001b[0m                                 Traceback (most recent call last)",
      "Cell \u001b[1;32mIn[69], line 1\u001b[0m\n\u001b[1;32m----> 1\u001b[0m df[\u001b[38;5;124m'\u001b[39m\u001b[38;5;124mincluded\u001b[39m\u001b[38;5;124m'\u001b[39m] \u001b[38;5;241m=\u001b[39m pandas\u001b[38;5;241m.\u001b[39mto_datetime(df[\u001b[38;5;124m'\u001b[39m\u001b[38;5;124mtime\u001b[39m\u001b[38;5;124m'\u001b[39m], unit\u001b[38;5;241m=\u001b[39m\u001b[38;5;124m'\u001b[39m\u001b[38;5;124ms\u001b[39m\u001b[38;5;124m'\u001b[39m)\n",
      "\u001b[1;31mNameError\u001b[0m: name 'pandas' is not defined"
     ]
    }
   ],
   "source": [
    "df['included'] = pandas.to_datetime(df['time'], unit='s')"
   ]
  },
  {
   "cell_type": "code",
   "execution_count": 64,
   "id": "0b2a1b49-3821-4860-aadc-8cd32944e269",
   "metadata": {},
   "outputs": [
    {
     "name": "stdout",
     "output_type": "stream",
     "text": [
      "Requirement already satisfied: matplotlib in c:\\anaconda\\lib\\site-packages (3.10.0)\n",
      "Requirement already satisfied: contourpy>=1.0.1 in c:\\anaconda\\lib\\site-packages (from matplotlib) (1.3.1)\n",
      "Requirement already satisfied: cycler>=0.10 in c:\\anaconda\\lib\\site-packages (from matplotlib) (0.12.1)\n",
      "Requirement already satisfied: fonttools>=4.22.0 in c:\\anaconda\\lib\\site-packages (from matplotlib) (4.56.0)\n",
      "Requirement already satisfied: kiwisolver>=1.3.1 in c:\\anaconda\\lib\\site-packages (from matplotlib) (1.4.8)\n",
      "Requirement already satisfied: numpy>=1.23 in c:\\anaconda\\lib\\site-packages (from matplotlib) (1.26.4)\n",
      "Requirement already satisfied: packaging>=20.0 in c:\\anaconda\\lib\\site-packages (from matplotlib) (24.1)\n",
      "Requirement already satisfied: pillow>=8 in c:\\anaconda\\lib\\site-packages (from matplotlib) (10.4.0)\n",
      "Requirement already satisfied: pyparsing>=2.3.1 in c:\\anaconda\\lib\\site-packages (from matplotlib) (3.2.1)\n",
      "Requirement already satisfied: python-dateutil>=2.7 in c:\\anaconda\\lib\\site-packages (from matplotlib) (2.9.0.post0)\n",
      "Requirement already satisfied: six>=1.5 in c:\\anaconda\\lib\\site-packages (from python-dateutil>=2.7->matplotlib) (1.16.0)\n"
     ]
    }
   ],
   "source": [
    "! pip install matplotlib"
   ]
  },
  {
   "cell_type": "code",
   "execution_count": 65,
   "id": "6a915853-6e86-40e7-8f9b-eb0176677710",
   "metadata": {},
   "outputs": [],
   "source": [
    "import matplotlib.pyplot as plt\n",
    "%matplotlib inline"
   ]
  },
  {
   "cell_type": "code",
   "execution_count": 66,
   "id": "14bf7f85-d182-4a44-9ad0-6cb4172b91dc",
   "metadata": {},
   "outputs": [],
   "source": [
    "%config InlineBackend.figure_format='retina'"
   ]
  },
  {
   "cell_type": "code",
   "execution_count": null,
   "id": "a46ce66e-a080-49b9-929c-5f0e13c1b092",
   "metadata": {},
   "outputs": [],
   "source": [
    "3"
   ]
  },
  {
   "cell_type": "code",
   "execution_count": 126,
   "id": "0a6f3b62-fc02-4bbe-9c07-15fa05d53243",
   "metadata": {},
   "outputs": [
    {
     "ename": "AttributeError",
     "evalue": "module 'pandas' has no attribute 'Dataframe'",
     "output_type": "error",
     "traceback": [
      "\u001b[1;31m---------------------------------------------------------------------------\u001b[0m",
      "\u001b[1;31mAttributeError\u001b[0m                            Traceback (most recent call last)",
      "Cell \u001b[1;32mIn[126], line 1\u001b[0m\n\u001b[1;32m----> 1\u001b[0m df\u001b[38;5;241m=\u001b[39mpd\u001b[38;5;241m.\u001b[39mDataframe(columns\u001b[38;5;241m=\u001b[39m \u001b[38;5;124m'\u001b[39m\u001b[38;5;124mincluded\u001b[39m\u001b[38;5;124m'\u001b[39m)\n\u001b[0;32m      2\u001b[0m df\u001b[38;5;241m.\u001b[39mplot(kind\u001b[38;5;241m=\u001b[39m\u001b[38;5;124m'\u001b[39m\u001b[38;5;124mpie\u001b[39m\u001b[38;5;124m'\u001b[39m, subplots\u001b[38;5;241m=\u001b[39m\u001b[38;5;28;01mTrue\u001b[39;00m, figsize\u001b[38;5;241m=\u001b[39m(\u001b[38;5;241m8\u001b[39m, \u001b[38;5;241m8\u001b[39m))\n\u001b[0;32m      3\u001b[0m plt\u001b[38;5;241m.\u001b[39mshow()\n",
      "\u001b[1;31mAttributeError\u001b[0m: module 'pandas' has no attribute 'Dataframe'"
     ]
    }
   ],
   "source": [
    "df=pd.Dataframe(columns= 'included')\n",
    "df.plot(kind='pie', subplots=True, figsize=(8, 8))\n",
    "plt.show()"
   ]
  },
  {
   "cell_type": "code",
   "execution_count": null,
   "id": "ae35b186-c5fa-4942-9353-9eb1720fca78",
   "metadata": {},
   "outputs": [],
   "source": [
    "5 Joining Datasets"
   ]
  },
  {
   "cell_type": "code",
   "execution_count": 73,
   "id": "92446a81-c51c-449f-8014-43f75642bb33",
   "metadata": {},
   "outputs": [],
   "source": [
    "df1= pd.read_csv('C:/Users/aroos/Desktop/companies_no_subindustry.csv')\n",
    "df2= pd.read_csv('C:/Users/aroos/Desktop/companies_subindustry.csv')"
   ]
  },
  {
   "cell_type": "code",
   "execution_count": 78,
   "id": "d70c8155-6691-4ea5-9c4d-be40350476d4",
   "metadata": {},
   "outputs": [
    {
     "data": {
      "text/html": [
       "<div>\n",
       "<style scoped>\n",
       "    .dataframe tbody tr th:only-of-type {\n",
       "        vertical-align: middle;\n",
       "    }\n",
       "\n",
       "    .dataframe tbody tr th {\n",
       "        vertical-align: top;\n",
       "    }\n",
       "\n",
       "    .dataframe thead th {\n",
       "        text-align: right;\n",
       "    }\n",
       "</style>\n",
       "<table border=\"1\" class=\"dataframe\">\n",
       "  <thead>\n",
       "    <tr style=\"text-align: right;\">\n",
       "      <th></th>\n",
       "      <th>Symbol</th>\n",
       "      <th>Security</th>\n",
       "      <th>GICS_Sector</th>\n",
       "      <th>hq</th>\n",
       "      <th>included</th>\n",
       "      <th>Founded</th>\n",
       "      <th>subindustry</th>\n",
       "    </tr>\n",
       "  </thead>\n",
       "  <tbody>\n",
       "    <tr>\n",
       "      <th>0</th>\n",
       "      <td>MMM</td>\n",
       "      <td>3M</td>\n",
       "      <td>Industrials</td>\n",
       "      <td>Saint Paul, Minnesota</td>\n",
       "      <td>09.08.1976</td>\n",
       "      <td>1902</td>\n",
       "      <td>Industrial Conglomerates</td>\n",
       "    </tr>\n",
       "    <tr>\n",
       "      <th>1</th>\n",
       "      <td>AOS</td>\n",
       "      <td>A. O. Smith</td>\n",
       "      <td>Industrials</td>\n",
       "      <td>Milwaukee, Wisconsin</td>\n",
       "      <td>26.07.2017</td>\n",
       "      <td>1916</td>\n",
       "      <td>Building Products</td>\n",
       "    </tr>\n",
       "    <tr>\n",
       "      <th>2</th>\n",
       "      <td>ABT</td>\n",
       "      <td>Abbott</td>\n",
       "      <td>Health Care</td>\n",
       "      <td>North Chicago, Illinois</td>\n",
       "      <td>31.03.1964</td>\n",
       "      <td>1888</td>\n",
       "      <td>Health Care Equipment</td>\n",
       "    </tr>\n",
       "    <tr>\n",
       "      <th>3</th>\n",
       "      <td>ABBV</td>\n",
       "      <td>AbbVie</td>\n",
       "      <td>Health Care</td>\n",
       "      <td>North Chicago, Illinois</td>\n",
       "      <td>31.12.2012</td>\n",
       "      <td>2013 (1888)</td>\n",
       "      <td>Pharmaceuticals</td>\n",
       "    </tr>\n",
       "    <tr>\n",
       "      <th>4</th>\n",
       "      <td>ABMD</td>\n",
       "      <td>Abiomed</td>\n",
       "      <td>Health Care</td>\n",
       "      <td>Danvers, Massachusetts</td>\n",
       "      <td>31.05.2018</td>\n",
       "      <td>1981</td>\n",
       "      <td>Health Care Equipment</td>\n",
       "    </tr>\n",
       "  </tbody>\n",
       "</table>\n",
       "</div>"
      ],
      "text/plain": [
       "  Symbol     Security  GICS_Sector                       hq    included  \\\n",
       "0    MMM           3M  Industrials    Saint Paul, Minnesota  09.08.1976   \n",
       "1    AOS  A. O. Smith  Industrials     Milwaukee, Wisconsin  26.07.2017   \n",
       "2    ABT       Abbott  Health Care  North Chicago, Illinois  31.03.1964   \n",
       "3   ABBV       AbbVie  Health Care  North Chicago, Illinois  31.12.2012   \n",
       "4   ABMD      Abiomed  Health Care   Danvers, Massachusetts  31.05.2018   \n",
       "\n",
       "       Founded               subindustry  \n",
       "0         1902  Industrial Conglomerates  \n",
       "1         1916         Building Products  \n",
       "2         1888     Health Care Equipment  \n",
       "3  2013 (1888)           Pharmaceuticals  \n",
       "4         1981     Health Care Equipment  "
      ]
     },
     "execution_count": 78,
     "metadata": {},
     "output_type": "execute_result"
    }
   ],
   "source": [
    "merged_df = pd.merge(df1, df2, on='Symbol', how='left')\n",
    "merged_df.head()"
   ]
  },
  {
   "cell_type": "code",
   "execution_count": null,
   "id": "aa938e03-9a68-4d88-b8ae-cfe342a8d859",
   "metadata": {},
   "outputs": [],
   "source": [
    "#3rd PART "
   ]
  },
  {
   "cell_type": "code",
   "execution_count": 79,
   "id": "d7a8d4f9-2573-4c76-b6b6-768f565839fe",
   "metadata": {},
   "outputs": [
    {
     "name": "stdout",
     "output_type": "stream",
     "text": [
      "    Symbol              Security             GICS_Sector  \\\n",
      "0      MMM                    3M             Industrials   \n",
      "1      AOS           A. O. Smith             Industrials   \n",
      "2      ABT                Abbott             Health Care   \n",
      "3     ABBV                AbbVie             Health Care   \n",
      "4     ABMD               Abiomed             Health Care   \n",
      "..     ...                   ...                     ...   \n",
      "498    YUM           Yum! Brands  Consumer Discretionary   \n",
      "499   ZBRA    Zebra Technologies  Information Technology   \n",
      "500    ZBH         Zimmer Biomet             Health Care   \n",
      "501   ZION  Zions Bancorporation              Financials   \n",
      "502    ZTS                Zoetis             Health Care   \n",
      "\n",
      "                          hq  included      Founded  \n",
      "0      Saint Paul, Minnesota       NaN         1902  \n",
      "1       Milwaukee, Wisconsin       NaN         1916  \n",
      "2    North Chicago, Illinois       NaN         1888  \n",
      "3    North Chicago, Illinois       NaN  2013 (1888)  \n",
      "4     Danvers, Massachusetts       NaN         1981  \n",
      "..                       ...       ...          ...  \n",
      "498     Louisville, Kentucky       NaN         1997  \n",
      "499   Lincolnshire, Illinois       NaN         1969  \n",
      "500          Warsaw, Indiana       NaN         1927  \n",
      "501     Salt Lake City, Utah       NaN         1873  \n",
      "502   Parsippany, New Jersey       NaN         1952  \n",
      "\n",
      "[503 rows x 6 columns]\n"
     ]
    }
   ],
   "source": [
    "data = np.random.randint(100, 500, size=4)\n",
    "df1 = pd.DataFrame(data, columns=['included'])\n",
    "\n",
    "# displaying random integers in data frame\n",
    "print(df)"
   ]
  },
  {
   "cell_type": "code",
   "execution_count": 81,
   "id": "23e99d81-e0d0-414e-8eee-857f6054d778",
   "metadata": {},
   "outputs": [],
   "source": [
    "plt.style.use('classic')\n",
    "\n",
    "x = np.linspace(0, 2, 100)\n",
    "\n",
    "\n",
    "plt.figure(figsize=(8,4))\n",
    "plt.plot(x, x, label='linear',  linewidth=2.0)\n",
    "plt.plot(x, x**2, label='quadratic')\n",
    "plt.plot(x, np.sqrt(x),'k^:',label='sqrt')\n",
    "\n",
    "plt.xlabel('x label')\n",
    "plt.ylabel('y label')\n",
    "plt.title(\"Basic plots\")\n",
    "\n",
    "plt.legend(loc = 'best');"
   ]
  },
  {
   "cell_type": "code",
   "execution_count": null,
   "id": "18f82d7e-7b73-4210-872f-84522665dbeb",
   "metadata": {},
   "outputs": [],
   "source": [
    "Histogram"
   ]
  },
  {
   "cell_type": "code",
   "execution_count": 83,
   "id": "1f07e0d1-66cd-442f-b0c7-4749d316a7bd",
   "metadata": {},
   "outputs": [],
   "source": [
    "\n",
    "plt.figure(figsize=(5,5))\n",
    "\n",
    "plt.hist(x, bins = 50, density= True, facecolor='g')\n",
    "\n",
    "plt.xlabel('included')\n",
    "plt.ylabel('Symbol')\n",
    "plt.title('Histogram of X')\n",
    "\n",
    "\n",
    "plt.grid(True)"
   ]
  },
  {
   "cell_type": "code",
   "execution_count": null,
   "id": "f06df7b7-fcbe-49da-b190-1f5ca9985f58",
   "metadata": {},
   "outputs": [],
   "source": []
  }
 ],
 "metadata": {
  "kernelspec": {
   "display_name": "Python 3 (ipykernel)",
   "language": "python",
   "name": "python3"
  },
  "language_info": {
   "codemirror_mode": {
    "name": "ipython",
    "version": 3
   },
   "file_extension": ".py",
   "mimetype": "text/x-python",
   "name": "python",
   "nbconvert_exporter": "python",
   "pygments_lexer": "ipython3",
   "version": "3.12.7"
  }
 },
 "nbformat": 4,
 "nbformat_minor": 5
}
